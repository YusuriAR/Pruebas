{
  "nbformat": 4,
  "nbformat_minor": 5,
  "metadata": {
    "kernelspec": {
      "display_name": "Python 3 (ipykernel)",
      "language": "python",
      "name": "python3"
    },
    "language_info": {
      "codemirror_mode": {
        "name": "ipython",
        "version": 3
      },
      "file_extension": ".py",
      "mimetype": "text/x-python",
      "name": "python",
      "nbconvert_exporter": "python",
      "pygments_lexer": "ipython3",
      "version": "3.8.10"
    },
    "colab": {
      "name": "reporte_equipo_2_parte_2_practica_1.ipynb",
      "provenance": [],
      "collapsed_sections": []
    }
  },
  "cells": [
    {
      "cell_type": "markdown",
      "metadata": {
        "id": "e0777848"
      },
      "source": [
        "![cinta.png](attachment:cinta.png)"
      ],
      "id": "e0777848"
    },
    {
      "cell_type": "markdown",
      "metadata": {
        "id": "31c3aa11"
      },
      "source": [
        "![logo.png](attachment:logo.png)"
      ],
      "id": "31c3aa11"
    },
    {
      "cell_type": "markdown",
      "metadata": {
        "id": "670bdd15"
      },
      "source": [
        "# Práctica 1 segunda parte\n",
        "### **Equipo 2**\n",
        "\n",
        "- Arturo Bringas (Acturio)\n",
        "\n",
        "- Aide González (AideJGC)\n",
        "\n",
        "- Lizzy Gamboa (KaLizzyGam)\n",
        "\n",
        "- Yusuri Arciga (YusuriAR)\n"
      ],
      "id": "670bdd15"
    },
    {
      "cell_type": "code",
      "metadata": {
        "id": "cb45bead"
      },
      "source": [
        "import numpy as np\n",
        "import math\n",
        "import networkx as nx\n",
        "import matplotlib.pyplot as plt"
      ],
      "id": "cb45bead",
      "execution_count": 2,
      "outputs": []
    },
    {
      "cell_type": "markdown",
      "metadata": {
        "id": "e6ee63e6"
      },
      "source": [
        "### Objetivo:\n",
        "\n",
        "El objetivo de esta práctica es construir un grafo con pesos en sus *edges* y obtener una matriz de adyacencias que sea simétrica, por ejemplo:"
      ],
      "id": "e6ee63e6"
    },
    {
      "cell_type": "code",
      "metadata": {
        "colab": {
          "base_uri": "https://localhost:8080/"
        },
        "id": "59770170",
        "outputId": "e8e8dbee-1984-4116-e45f-1d8addc737d7"
      },
      "source": [
        "nodes_for_matrix=np.array([[0, 0, 1/2],\n",
        " [0, 1, 2],\n",
        " [1, 0, 2],\n",
        " [0, 2, 3],\n",
        " [2, 0, 3],\n",
        " [0, 3, 5],\n",
        " [3, 0, 5],\n",
        " [0, 4, 7],\n",
        " [4, 0, 7],\n",
        " [1, 1, 1/3],\n",
        " [1, 2, 11],\n",
        " [2, 1, 11],\n",
        " [1, 3, 13],\n",
        " [3, 1, 13],\n",
        " [1, 4, 17],\n",
        " [4, 1, 17],\n",
        " [2, 2, 1/5],\n",
        " [2, 3, 19],\n",
        " [3, 2, 19],\n",
        " [2, 4, 23],\n",
        " [4, 2, 23],\n",
        " [3, 3, 1/7],\n",
        " [3, 4, 29],\n",
        " [4, 3, 29],\n",
        " [4, 4, 1/11]])\n",
        "\n",
        "print(nodes_for_matrix)"
      ],
      "id": "59770170",
      "execution_count": 3,
      "outputs": [
        {
          "output_type": "stream",
          "name": "stdout",
          "text": [
            "[[ 0.          0.          0.5       ]\n",
            " [ 0.          1.          2.        ]\n",
            " [ 1.          0.          2.        ]\n",
            " [ 0.          2.          3.        ]\n",
            " [ 2.          0.          3.        ]\n",
            " [ 0.          3.          5.        ]\n",
            " [ 3.          0.          5.        ]\n",
            " [ 0.          4.          7.        ]\n",
            " [ 4.          0.          7.        ]\n",
            " [ 1.          1.          0.33333333]\n",
            " [ 1.          2.         11.        ]\n",
            " [ 2.          1.         11.        ]\n",
            " [ 1.          3.         13.        ]\n",
            " [ 3.          1.         13.        ]\n",
            " [ 1.          4.         17.        ]\n",
            " [ 4.          1.         17.        ]\n",
            " [ 2.          2.          0.2       ]\n",
            " [ 2.          3.         19.        ]\n",
            " [ 3.          2.         19.        ]\n",
            " [ 2.          4.         23.        ]\n",
            " [ 4.          2.         23.        ]\n",
            " [ 3.          3.          0.14285714]\n",
            " [ 3.          4.         29.        ]\n",
            " [ 4.          3.         29.        ]\n",
            " [ 4.          4.          0.09090909]]\n"
          ]
        }
      ]
    },
    {
      "cell_type": "markdown",
      "metadata": {
        "id": "21e6e26f"
      },
      "source": [
        "<br>\n",
        "\n",
        "Tenemos nodos con números del $0$ al $4$ y con pesos en sus *edges* dados por la tercera entrada de las tuplas anteriores. \n",
        "\n",
        "El grafo se ve como sigue:"
      ],
      "id": "21e6e26f"
    },
    {
      "cell_type": "code",
      "metadata": {
        "colab": {
          "base_uri": "https://localhost:8080/",
          "height": 337
        },
        "id": "7R1JzBkSb4xp",
        "outputId": "2e4c3111-e42f-488c-c04b-ebb2f5015010"
      },
      "source": [
        "G = nx.DiGraph()\n",
        "G.add_edges_from([(0, 1), (0,2), (0,3), (0,4), \n",
        "                  (1,0), (1,2), (1,3), (1,4),\n",
        "                  (2,0), (2,1), (2,3), (2,4),\n",
        "                  (3,0), (3,1), (3,2), (3,4),\n",
        "                  (4,0), (4,1), (4,2), (4,3),])\n",
        "nx.draw(G,with_labels=True)\n",
        "plt.show"
      ],
      "id": "7R1JzBkSb4xp",
      "execution_count": 4,
      "outputs": [
        {
          "output_type": "execute_result",
          "data": {
            "text/plain": [
              "<function matplotlib.pyplot.show>"
            ]
          },
          "metadata": {},
          "execution_count": 4
        },
        {
          "output_type": "display_data",
          "data": {
            "image/png": "[encoded data removed]",
            "text/plain": [
              "<Figure size 432x288 with 1 Axes>"
            ]
          },
          "metadata": {}
        }
      ]
    },
    {
      "cell_type": "markdown",
      "metadata": {
        "id": "29fb5534"
      },
      "source": [
        "(se omitieron los pesos de sus *edges*)\n",
        "\n",
        "La matriz de adyacencias es:"
      ],
      "id": "29fb5534"
    },
    {
      "cell_type": "code",
      "metadata": {
        "id": "mUtpMEeNjITq"
      },
      "source": [
        "def mat_ad (N=nodes_for_matrix):\n",
        "  \"\"\"\n",
        "  Función que devuelve la matriz de adyacencia de una matriz simétrica con \n",
        "  nodos y sus pesos asociados en la tercera entrada de las tuplas\n",
        "  Args: Matriz de nodos\n",
        "  Regresa: Matriz simétrica de adyacencia\n",
        "  \"\"\"\n",
        "  AD = dict()\n",
        "  for i in range(0,len(N)): \n",
        "    AD[(int(N[[i],[0]]), int(N[[i],[1]]))] = float(N[[i],[2]])\n",
        "  dim= int(np.sqrt(len(N)))\n",
        "  f=list()\n",
        "  mat=list()\n",
        "  for j in range(0, dim): \n",
        "    for i in range(0, dim):\n",
        "      x=AD.get((j,i))\n",
        "      f.append(x)\n",
        "      f=f[-dim:]\n",
        "    mat.append(f[0:dim])\n",
        "  return(np.array(mat))\n",
        "\n",
        "#https://stackoverflow.com/questions/5944708/how-to-force-a-list-to-a-fixed-size"
      ],
      "id": "mUtpMEeNjITq",
      "execution_count": 5,
      "outputs": []
    },
    {
      "cell_type": "code",
      "metadata": {
        "colab": {
          "base_uri": "https://localhost:8080/"
        },
        "id": "pCo_8vM-p6Ps",
        "outputId": "29bec059-5535-40e7-c6d0-bc1353e4e997"
      },
      "source": [
        "mat = mat_ad(nodes_for_matrix)\n",
        "print(mat)"
      ],
      "id": "pCo_8vM-p6Ps",
      "execution_count": 6,
      "outputs": [
        {
          "output_type": "stream",
          "name": "stdout",
          "text": [
            "[[ 0.5         2.          3.          5.          7.        ]\n",
            " [ 2.          0.33333333 11.         13.         17.        ]\n",
            " [ 3.         11.          0.2        19.         23.        ]\n",
            " [ 5.         13.         19.          0.14285714 29.        ]\n",
            " [ 7.         17.         23.         29.          0.09090909]]\n"
          ]
        }
      ]
    },
    {
      "cell_type": "markdown",
      "metadata": {
        "id": "3c25cbcb"
      },
      "source": [
        "<br>\n",
        "La cual es simétrica. Hay que aproximar todos los eigenvalores y eigenvectores de la matriz de adyacencias utilizando el algoritmo QR en el que se **debe programar** la factorización QR con reflexiones de Householder. El programa devuelve $Q$ y $R$. Muestren una visualización de su grafo en el reporte con los pesos de sus *edges* usando pocos decimales (p.ej. 2). "
      ],
      "id": "3c25cbcb"
    },
    {
      "cell_type": "code",
      "metadata": {
        "id": "6c2TPLDSiXZF"
      },
      "source": [
        "def grafo_mat(N=nodes_for_matrix):\n",
        "  \"\"\"\n",
        "  Función que genera el grafo de una matriz simétrica.\n",
        "  Args: Matriz con nodos y sus pesos asociados en la tercera entrada de las tuplas.\n",
        "  Regresa: Grafo con peso en los edges.\n",
        "  \"\"\"\n",
        "  G = nx.DiGraph()\n",
        "  AD = dict()\n",
        "  for i in range(0, len(N)):\n",
        "      AD[(int(N[[i],[0]]), int(N[[i],[1]]))] = round(float(N[[i],[2]]),2)\n",
        "      if (int(N[[i],[0]]) != int(N[[i],[1]])):\n",
        "        G.add_weighted_edges_from([(int(N[[i],[0]]), int(N[[i],[1]]), round(float(N[[i],[2]]),2))]) \n",
        "          \n",
        "  pos = nx.spring_layout(G, seed=47)\n",
        "    \n",
        "  lb=nx.draw_networkx_edge_labels(G,pos, edge_labels=AD, font_color='blue')\n",
        "   \n",
        "  nx.draw(G, pos, with_labels=True, node_size=900)\n",
        "\n",
        "  return plt.show\n",
        "\n"
      ],
      "id": "6c2TPLDSiXZF",
      "execution_count": 54,
      "outputs": []
    },
    {
      "cell_type": "code",
      "metadata": {
        "colab": {
          "base_uri": "https://localhost:8080/",
          "height": 265
        },
        "id": "wWMb2dIgUX8u",
        "outputId": "cc0919cb-dbc7-4788-f821-21f3262ad11a"
      },
      "source": [
        "grafo_mat(nodes_for_matrix)"
      ],
      "id": "wWMb2dIgUX8u",
      "execution_count": 55,
      "outputs": [
        {
          "output_type": "execute_result",
          "data": {
            "text/plain": [
              "<function matplotlib.pyplot.show>"
            ]
          },
          "metadata": {},
          "execution_count": 55
        },
        {
          "output_type": "display_data",
          "data": {
            "image/png": "[encoded data removed]",
            "text/plain": [
              "<Figure size 432x288 with 1 Axes>"
            ]
          },
          "metadata": {}
        }
      ]
    },
    {
      "cell_type": "markdown",
      "metadata": {
        "id": "989b8d37"
      },
      "source": [
        "\n",
        "## ***Solución***"
      ],
      "id": "989b8d37"
    },
    {
      "cell_type": "markdown",
      "metadata": {
        "id": "fef6f562"
      },
      "source": [
        "**Parte 1: Aproximar todos los eigenvalores y eigenvectores de la matriz de adyacencias utilizando el algoritmo QR en el que se debe programar la factorización QR con reflexiones de Householder. El programa devuelve $Q$ y $R$.**\n",
        "\n",
        "Primero se calculará la factorización $Q$ y $R$ con reflexiones de Householder, se hace el desarrollo visto en clase para comprobar salidas en la programación de la función"
      ],
      "id": "fef6f562"
    },
    {
      "cell_type": "code",
      "metadata": {
        "colab": {
          "base_uri": "https://localhost:8080/"
        },
        "id": "b79261fb",
        "outputId": "027b76f1-1577-42b1-bea6-a50dc82b683a"
      },
      "source": [
        "A = mat\n",
        "\n",
        "l_betas = []\n",
        "l_v_Householder = []\n",
        "\n",
        "row, col = mat.shape\n",
        "print(row, col)\n",
        "e1 = np.zeros(col)\n",
        "print(e1)\n",
        "e1[0] = 1\n",
        "print(e1)\n",
        "v = A[:,0] - np.linalg.norm(A[:,0])*e1\n",
        "print('v: ',v)\n",
        "beta = 2/v.dot(v)\n",
        "print(beta)\n",
        "l_betas.append(beta)\n",
        "l_v_Householder.append(v)\n",
        "A1 = A[:,0:]-beta*np.outer(v,v.dot(A[:,0:]))\n",
        "print('a1\\n',A1)\n",
        "\n",
        "print(np.linalg.norm(A1[:,0]))\n",
        "print(np.linalg.norm(A[:,0]))\n",
        "\n",
        "# Trabajando la segunda columna\n",
        "e1 = np.zeros(col-1)\n",
        "print(e1)\n",
        "e1[0] = 1\n",
        "print(e1)\n",
        "v = A1[1:,1] + np.linalg.norm(A1[1:,1])*e1\n",
        "print('v: ',v)\n",
        "beta = 2/v.dot(v)\n",
        "print(beta)\n",
        "l_betas.append(beta)\n",
        "l_v_Householder.append(v)\n",
        "print(A1[1:,1] - beta*v*v.dot(A1[1:,1]))\n",
        "A2_aux = A1[1:,1:]-beta*np.outer(v,v.dot(A1[1:,1:]))\n",
        "print('a2\\n',A2_aux)\n",
        "\n",
        "# Trabajando la tercera columna\n",
        "e1 = np.zeros(col-2)\n",
        "print(e1)\n",
        "e1[0] = 1\n",
        "print(e1)\n",
        "v = A2_aux[1:,1] + np.linalg.norm(A2_aux[1:,1])*e1\n",
        "print('v: ',v)\n",
        "beta = 2/v.dot(v)\n",
        "print(beta)\n",
        "l_betas.append(beta)\n",
        "l_v_Householder.append(v)\n",
        "print(A2_aux[1:,1] - beta*v*v.dot(A2_aux[1:,1]))\n",
        "A3_aux = A2_aux[1:,1:]-beta*np.outer(v,v.dot(A2_aux[1:,1:]))\n",
        "print('a31\\n',A3_aux)\n",
        "\n",
        "# Trabajando la cuarta columna\n",
        "e1 = np.zeros(col-3)\n",
        "print(e1)\n",
        "e1[0] = 1\n",
        "print(e1)\n",
        "v = A3_aux[1:,1] + np.linalg.norm(A3_aux[1:,1])*e1\n",
        "print('v: ',v)\n",
        "beta = 2/v.dot(v)\n",
        "print(beta)\n",
        "l_betas.append(beta)\n",
        "l_v_Householder.append(v)\n",
        "print(A3_aux[1:,1] - beta*v*v.dot(A3_aux[1:,1]))\n",
        "A4_aux = A3_aux[1:,1:]-beta*np.outer(v,v.dot(A3_aux[1:,1:]))\n",
        "print('a4\\n',A4_aux)\n",
        "\n",
        "print('\\n\\n-------------------')\n",
        "# Entonces sólo falta colocar los renglones y columnas para tener a la matriz A(3). \n",
        "# Para esto combinamos columnas y renglones en numpy con column_stack y row_stack:\n",
        "\n",
        "number_of_zeros = row-3\n",
        "print('number_of_zeros:',(np.zeros(number_of_zeros)))\n",
        "print('A4_aux:',A4_aux)\n",
        "\n",
        "A4_aux_2 = np.column_stack((np.zeros(number_of_zeros), A4_aux)) \n",
        "print('A4_aux_2\\n: ',A4_aux_2)\n",
        "\n",
        "A4_aux_3 = np.row_stack((A3_aux[0, 0:], A4_aux_2))\n",
        "print('A4_aux_3\\n: ',A4_aux_3)\n",
        "\n",
        "number_of_zeros = row-2\n",
        "A4_aux_4 = np.column_stack((np.zeros(number_of_zeros), A4_aux_3)) \n",
        "print('A4_aux_4\\n: ',A4_aux_4)\n",
        "\n",
        "A4_aux_5 = np.row_stack((A2_aux[0, 0:], A4_aux_4))\n",
        "print('A4_aux_5\\n: ',A4_aux_5)\n",
        "\n",
        "number_of_zeros = row-1\n",
        "A4_aux_6 = np.column_stack((np.zeros(number_of_zeros), A4_aux_5)) \n",
        "print('A4_aux_6\\n: ',A4_aux_6)\n",
        "\n",
        "A5 = np.row_stack((A1[0, 0:], A4_aux_6))\n",
        "print('A5\\n',A5)\n",
        "\n",
        "# Comprobando\n",
        "print('-------------------Comprobando lib---------------------------')\n",
        "q,r = np.linalg.qr(A)\n",
        "print(\"Q:\")\n",
        "print(q)\n",
        "print(\"R:\")\n",
        "print(r)\n",
        "\n",
        "print('-------------------Comprobando hous---------------------------')\n",
        "\n",
        "print('\\nBetas\\n',l_betas)\n",
        "print('\\nV-HUos\\n',l_v_Householder)\n",
        "print('\\nBetas len\\n',len(l_betas))\n",
        "\n",
        "#print('\\nR\\n')\n",
        "#A5 = np.row_stack((A1[0, 0:], A4_aux_6))\n",
        "#print('\\nA5\\n',A5)\n",
        "\n",
        "print('\\nQ\\n')\n",
        "Q_Householder = np.eye(row)\n",
        "print(Q_Householder)\n",
        "print(col)\n",
        "m = col\n",
        "for j in range(col-2,-1,-1):\n",
        "    print(j)\n",
        "    v = l_v_Householder[j]\n",
        "    print(v)\n",
        "    print(Q_Householder[j:m,j:m])\n",
        "    Q_Householder[j:m, j:m] = Q_Householder[j:m, j:m] - l_betas[j]*np.outer(v, v.dot(Q_Householder[j:m,j:m]))\n",
        "\n",
        "print(Q_Householder)\n",
        "\n"
      ],
      "id": "b79261fb",
      "execution_count": 336,
      "outputs": [
        {
          "output_type": "stream",
          "name": "stdout",
          "text": [
            "5 5\n",
            "[0. 0. 0. 0. 0.]\n",
            "[1. 0. 0. 0. 0.]\n",
            "v:  [-8.84077085  2.          3.          5.          7.        ]\n",
            "0.012109526123646193\n",
            "a1\n",
            " [[ 9.34077085e+00  2.34099166e+01  2.99868185e+01  3.09625716e+01\n",
            "   2.69931002e+01]\n",
            " [ 4.44089210e-16 -4.51011686e+00  4.89491732e+00  7.12662719e+00\n",
            "   1.24770686e+01]\n",
            " [ 8.88178420e-16  3.73482471e+00 -8.95762402e+00  1.01899408e+01\n",
            "   1.62156028e+01]\n",
            " [ 1.77635684e-15  8.91374524e-01  3.73729329e+00 -1.45405749e+01\n",
            "   1.76926714e+01]\n",
            " [ 8.88178420e-16  4.79243335e-02  1.63221061e+00  8.44319516e+00\n",
            "  -1.57393510e+01]]\n",
            "9.340770846134701\n",
            "9.340770846134703\n",
            "[0. 0. 0. 0.]\n",
            "[1. 0. 0. 0.]\n",
            "v:  [1.41330403 3.73482471 0.89137452 0.04792433]\n",
            "0.11945155579446508\n",
            "[-5.92342089e+00  2.22044605e-15  5.55111512e-16  2.77555756e-17]\n",
            "a2\n",
            " [[-5.92342089e+00  8.79935008e+00  1.12109917e+00 -3.25924765e+00]\n",
            " [ 2.22044605e-15  1.36030594e+00 -5.68038435e+00 -2.53694924e+01]\n",
            " [ 5.55111512e-16  6.19982918e+00 -1.83282770e+01  7.76773586e+00]\n",
            " [ 3.46944695e-17  1.76460770e+00  8.23955113e+00 -1.62729605e+01]]\n",
            "[0. 0. 0.]\n",
            "[1. 0. 0.]\n",
            "v:  [7.94833709 6.19982918 1.7646077 ]\n",
            "0.01909712886153031\n",
            "[-6.58803115  0.          0.        ]\n",
            "a31\n",
            " [[-6.58803115e+00  1.62142026e+01  2.28703032e+00]\n",
            " [ 8.88178420e-16 -1.25015140e+00  2.93402629e+01]\n",
            " [ 0.00000000e+00  1.31003612e+01 -1.01329450e+01]]\n",
            "[0. 0.]\n",
            "[1. 0.]\n",
            "v:  [11.90972479 13.10036117]\n",
            "0.006380378911391297\n",
            "[-1.31598762e+01  3.55271368e-15]\n",
            "a4\n",
            " [[-1.31598762e+01  1.28743620e+01]\n",
            " [ 3.55271368e-15 -2.82449713e+01]]\n",
            "\n",
            "\n",
            "-------------------\n",
            "number_of_zeros: [0. 0.]\n",
            "A4_aux: [[-1.31598762e+01  1.28743620e+01]\n",
            " [ 3.55271368e-15 -2.82449713e+01]]\n",
            "A4_aux_2\n",
            ":  [[ 0.00000000e+00 -1.31598762e+01  1.28743620e+01]\n",
            " [ 0.00000000e+00  3.55271368e-15 -2.82449713e+01]]\n",
            "A4_aux_3\n",
            ":  [[-6.58803115e+00  1.62142026e+01  2.28703032e+00]\n",
            " [ 0.00000000e+00 -1.31598762e+01  1.28743620e+01]\n",
            " [ 0.00000000e+00  3.55271368e-15 -2.82449713e+01]]\n",
            "A4_aux_4\n",
            ":  [[ 0.00000000e+00 -6.58803115e+00  1.62142026e+01  2.28703032e+00]\n",
            " [ 0.00000000e+00  0.00000000e+00 -1.31598762e+01  1.28743620e+01]\n",
            " [ 0.00000000e+00  0.00000000e+00  3.55271368e-15 -2.82449713e+01]]\n",
            "A4_aux_5\n",
            ":  [[-5.92342089e+00  8.79935008e+00  1.12109917e+00 -3.25924765e+00]\n",
            " [ 0.00000000e+00 -6.58803115e+00  1.62142026e+01  2.28703032e+00]\n",
            " [ 0.00000000e+00  0.00000000e+00 -1.31598762e+01  1.28743620e+01]\n",
            " [ 0.00000000e+00  0.00000000e+00  3.55271368e-15 -2.82449713e+01]]\n",
            "A4_aux_6\n",
            ":  [[ 0.00000000e+00 -5.92342089e+00  8.79935008e+00  1.12109917e+00\n",
            "  -3.25924765e+00]\n",
            " [ 0.00000000e+00  0.00000000e+00 -6.58803115e+00  1.62142026e+01\n",
            "   2.28703032e+00]\n",
            " [ 0.00000000e+00  0.00000000e+00  0.00000000e+00 -1.31598762e+01\n",
            "   1.28743620e+01]\n",
            " [ 0.00000000e+00  0.00000000e+00  0.00000000e+00  3.55271368e-15\n",
            "  -2.82449713e+01]]\n",
            "A5\n",
            " [[ 9.34077085e+00  2.34099166e+01  2.99868185e+01  3.09625716e+01\n",
            "   2.69931002e+01]\n",
            " [ 0.00000000e+00 -5.92342089e+00  8.79935008e+00  1.12109917e+00\n",
            "  -3.25924765e+00]\n",
            " [ 0.00000000e+00  0.00000000e+00 -6.58803115e+00  1.62142026e+01\n",
            "   2.28703032e+00]\n",
            " [ 0.00000000e+00  0.00000000e+00  0.00000000e+00 -1.31598762e+01\n",
            "   1.28743620e+01]\n",
            " [ 0.00000000e+00  0.00000000e+00  0.00000000e+00  3.55271368e-15\n",
            "  -2.82449713e+01]]\n",
            "-------------------Comprobando lib---------------------------\n",
            "Q:\n",
            "[[-0.05352877  0.12609198  0.38013936  0.73310946 -0.54706496]\n",
            " [-0.21411509 -0.7899292  -0.35997005 -0.0267305  -0.4470723 ]\n",
            " [-0.32117264  0.58773054 -0.64652074 -0.05837781 -0.36058829]\n",
            " [-0.53528773  0.07917029  0.55328687 -0.56012414 -0.29552277]\n",
            " [-0.74940282 -0.09174724 -0.04242882  0.38038006  0.53243654]]\n",
            "R:\n",
            "[[ -9.34077085 -23.40991662 -29.9868185  -30.96257156 -26.99310023]\n",
            " [  0.           5.92342089  -8.79935008  -1.12109917   3.25924765]\n",
            " [  0.           0.           6.58803115 -16.21420261  -2.28703032]\n",
            " [  0.           0.           0.          13.15987619 -12.87436197]\n",
            " [  0.           0.           0.           0.         -28.24497133]]\n",
            "-------------------Comprobando hous---------------------------\n",
            "\n",
            "Betas\n",
            " [0.012109526123646193, 0.11945155579446508, 0.01909712886153031, 0.006380378911391297]\n",
            "\n",
            "V-HUos\n",
            " [array([-8.84077085,  2.        ,  3.        ,  5.        ,  7.        ]), array([1.41330403, 3.73482471, 0.89137452, 0.04792433]), array([7.94833709, 6.19982918, 1.7646077 ]), array([11.90972479, 13.10036117])]\n",
            "\n",
            "Betas len\n",
            " 4\n",
            "\n",
            "Q\n",
            "\n",
            "[[1. 0. 0. 0. 0.]\n",
            " [0. 1. 0. 0. 0.]\n",
            " [0. 0. 1. 0. 0.]\n",
            " [0. 0. 0. 1. 0.]\n",
            " [0. 0. 0. 0. 1.]]\n",
            "5\n",
            "3\n",
            "[11.90972479 13.10036117]\n",
            "[[1. 0.]\n",
            " [0. 1.]]\n",
            "2\n",
            "[7.94833709 6.19982918 1.7646077 ]\n",
            "[[ 1.          0.          0.        ]\n",
            " [ 0.          0.0949972  -0.99547754]\n",
            " [ 0.         -0.99547754 -0.0949972 ]]\n",
            "1\n",
            "[1.41330403 3.73482471 0.89137452 0.04792433]\n",
            "[[ 1.          0.          0.          0.        ]\n",
            " [ 0.         -0.20648141  0.17723974  0.96226374]\n",
            " [ 0.         -0.94107466  0.23324701 -0.24489654]\n",
            " [ 0.         -0.26785054 -0.9561286   0.11863465]]\n",
            "0\n",
            "[-8.84077085  2.          3.          5.          7.        ]\n",
            "[[ 1.          0.          0.          0.          0.        ]\n",
            " [ 0.          0.76140408  0.27397317 -0.1391169  -0.57083186]\n",
            " [ 0.         -0.63051821  0.51752542 -0.1903933  -0.54622763]\n",
            " [ 0.         -0.15048306 -0.76827907  0.14550562 -0.60492167]\n",
            " [ 0.         -0.00809065 -0.25856027 -0.96084598  0.09927807]]\n",
            "[[ 0.05352877 -0.12609198 -0.38013936 -0.73310946 -0.54706496]\n",
            " [ 0.21411509  0.7899292   0.35997005  0.0267305  -0.4470723 ]\n",
            " [ 0.32117264 -0.58773054  0.64652074  0.05837781 -0.36058829]\n",
            " [ 0.53528773 -0.07917029 -0.55328687  0.56012414 -0.29552277]\n",
            " [ 0.74940282  0.09174724  0.04242882 -0.38038006  0.53243654]]\n"
          ]
        }
      ]
    },
    {
      "cell_type": "markdown",
      "metadata": {
        "id": "b7d6f51c-d84d-464a-8626-2d164b0957ef"
      },
      "source": [
        "<br>\n",
        "\n",
        "Se observa que se necesitará crear una función para crear vectores $e$ que nos permitan hacer ceros debajo de la columna"
      ],
      "id": "b7d6f51c-d84d-464a-8626-2d164b0957ef"
    },
    {
      "cell_type": "code",
      "metadata": {
        "id": "86b6868a-9460-4a42-9ec7-e049a0e24ea7"
      },
      "source": [
        "def vect_ini(col):\n",
        "    \"\"\"\n",
        "    Se construye el vector que servira para ceros en las entradas \n",
        "    debajo de la primera entrada de la primera columna de la matriz A\n",
        "    Args:\n",
        "        col: tamaño del vector\n",
        "    Regresa:\n",
        "        vector con 1 en la primera posición y elementos cero en las demás posiciones\n",
        "    \"\"\"\n",
        "    e1 = a = np.zeros(col)\n",
        "    e1[0] = 1\n",
        "    return e1"
      ],
      "id": "86b6868a-9460-4a42-9ec7-e049a0e24ea7",
      "execution_count": 337,
      "outputs": []
    },
    {
      "cell_type": "markdown",
      "metadata": {
        "id": "2deace8a-391c-41ad-953e-0822f0db7cf7"
      },
      "source": [
        "Probando la función"
      ],
      "id": "2deace8a-391c-41ad-953e-0822f0db7cf7"
    },
    {
      "cell_type": "code",
      "metadata": {
        "colab": {
          "base_uri": "https://localhost:8080/"
        },
        "id": "e29ab4a2-0b6b-46cd-a763-63d513c052ae",
        "outputId": "a10dc9c0-4772-4e29-ff53-0d6551707df5"
      },
      "source": [
        "columnas = 5\n",
        "e1 = vect_ini(columnas)\n",
        "print(e1)"
      ],
      "id": "e29ab4a2-0b6b-46cd-a763-63d513c052ae",
      "execution_count": 338,
      "outputs": [
        {
          "output_type": "stream",
          "name": "stdout",
          "text": [
            "[1. 0. 0. 0. 0.]\n"
          ]
        }
      ]
    },
    {
      "cell_type": "markdown",
      "metadata": {
        "id": "e00ac8ea-9349-4b12-9be5-bb232f5f20c4"
      },
      "source": [
        "<br>\n",
        "\n",
        "Ahora se programa la factorización QR con reflexiones de Householder."
      ],
      "id": "e00ac8ea-9349-4b12-9be5-bb232f5f20c4"
    },
    {
      "cell_type": "code",
      "metadata": {
        "id": "bb368344-46e7-4f2c-8933-62f611b72367"
      },
      "source": [
        "def factorizacion_qr_hh(A):\n",
        "    \"\"\"\n",
        "    Calcula la factorización QR de una matriz usando las refexiones de housholder\n",
        "    Args:\n",
        "        A (Matrix): matriz a obtener una matriz superior\n",
        "    Regresa:\n",
        "        Q (Matrix): matriz Q\n",
        "        R (Matrix): matriz R\n",
        "    \"\"\"\n",
        "    # Declaracón de lista a utilizar para guardar a las partes esenciales del vector de Householder y las betas.\n",
        "    l_betas = []\n",
        "    l_v_Householder = []\n",
        "    # Se obtienen las dimensiones de la matriz de entrada\n",
        "    row, col = A.shape\n",
        "    # Se construye el vector que servira para ceros en las entradas debajo de la primera columna de la matriz A\n",
        "    e1 = vect_ini(row)\n",
        "    # Obteniendo el vector housholder y las betas, y almacenando iterativamente\n",
        "    # Primera columna\n",
        "    v = A[:,0] - np.linalg.norm(A[:,0])*e1\n",
        "    beta = 2/v.dot(v)\n",
        "    l_betas.append(beta)\n",
        "    l_v_Householder.append(v)\n",
        "    # Modificando el primer renglón de la matriz\n",
        "    Aux = []\n",
        "    Aux.append(A[:,0:]-beta*np.outer(v,v.dot(A[:,0:])))\n",
        "    # Columnas subsecuentes    \n",
        "    for i in range(0, row-2):\n",
        "        e1 = vect_ini(row-i-1)\n",
        "        v = Aux[i][1:,1] + np.linalg.norm(Aux[i][1:,1])*e1\n",
        "        beta = 2/v.dot(v)\n",
        "        l_betas.append(beta)\n",
        "        l_v_Householder.append(v)\n",
        "        Aux.append(Aux[i][1:,1:]-beta*np.outer(v,v.dot(Aux[i][1:,1:])))\n",
        "        \n",
        "    # Colocando renglones y columnas para tener a la matriz A(5). \n",
        "    # Para esto combinamos columnas y renglones en numpy con column_stack y row_stack:\n",
        "    A5 = []\n",
        "    num = len(Aux)\n",
        "    #print('num:',num)\n",
        "    number_of_zeros = (row-(len(l_betas)-1))     \n",
        "    A5.append(np.column_stack((np.zeros(number_of_zeros), Aux[num-1])))\n",
        "    \n",
        "    for i in range(0, row-2):\n",
        "        A5.append(np.row_stack((Aux[num-(2+i)][0, 0:], A5[(len(A5)-1)])))\n",
        "        number_of_zeros = (row-(len(l_betas)-(2+i)))\n",
        "        A5.append(np.column_stack((np.zeros(number_of_zeros), A5[(len(A5)-1)]))) \n",
        "       \n",
        "    # Pintando R\n",
        "    indx = len(A5)    \n",
        "    R = []    \n",
        "    # Si es cuadrada\n",
        "    if(row == col):\n",
        "        A5.append(np.row_stack((Aux[0][0, 0:], A5[(indx-2)])))\n",
        "        \n",
        "    R = A5[(indx-2)]\n",
        "    \n",
        "    # Obteniendo Q\n",
        "    Q_Householder = np.eye(row)\n",
        "    m = row\n",
        "    for j in range(col-(len(l_betas)-2),-1,-1):\n",
        "        v = l_v_Householder[j]\n",
        "        Q_Householder[j:row, j:row] = Q_Householder[j:row, j:row] - l_betas[j]*np.outer(v, v.dot(Q_Householder[j:row,j:row]))\n",
        "    \n",
        "    return Q_Householder, R"
      ],
      "id": "bb368344-46e7-4f2c-8933-62f611b72367",
      "execution_count": 339,
      "outputs": []
    },
    {
      "cell_type": "markdown",
      "metadata": {
        "id": "7aa76db8-ae17-4f0e-8f19-176f500044fa"
      },
      "source": [
        "\n",
        "Probando la función con el ejemplo del libro de optimización"
      ],
      "id": "7aa76db8-ae17-4f0e-8f19-176f500044fa"
    },
    {
      "cell_type": "code",
      "metadata": {
        "colab": {
          "base_uri": "https://localhost:8080/"
        },
        "id": "1e2ba900-5764-44a9-8744-134a70dbe634",
        "outputId": "0f540b22-db1c-495c-a1b1-72dd72ca284d"
      },
      "source": [
        "A = np.array([[3 ,2, -1],\n",
        "              [2 ,3 ,2],\n",
        "              [-1, 2 ,3],\n",
        "              [2 ,1 ,4]], dtype = float)\n",
        "\n",
        "Q,R = factorizacion_qr_hh(A)\n",
        "print('\\nR:\\n', R)  \n",
        "print('\\nQ:\\n', Q)  "
      ],
      "id": "1e2ba900-5764-44a9-8744-134a70dbe634",
      "execution_count": 341,
      "outputs": [
        {
          "output_type": "stream",
          "name": "stdout",
          "text": [
            "\n",
            "R:\n",
            " [[ 4.24264069e+00  2.82842712e+00  1.41421356e+00]\n",
            " [ 0.00000000e+00 -3.16227766e+00 -3.16227766e+00]\n",
            " [ 0.00000000e+00  0.00000000e+00 -4.24264069e+00]\n",
            " [ 0.00000000e+00  0.00000000e+00  2.77555756e-17]]\n",
            "\n",
            "Q:\n",
            " [[ 7.07106781e-01  7.85046229e-17  4.71404521e-01  5.27046277e-01]\n",
            " [ 4.71404521e-01 -5.27046277e-01  7.85674201e-02 -7.02728369e-01]\n",
            " [-2.35702260e-01 -8.43274043e-01 -1.57134840e-01  4.56773440e-01]\n",
            " [ 4.71404521e-01  1.05409255e-01 -8.64241621e-01  1.40545674e-01]]\n"
          ]
        }
      ]
    },
    {
      "cell_type": "markdown",
      "metadata": {
        "id": "ba45d770-3611-4aa6-bfe3-f7108806e412"
      },
      "source": [
        "\n",
        "Se verifica el mismo resultado del libro"
      ],
      "id": "ba45d770-3611-4aa6-bfe3-f7108806e412"
    },
    {
      "cell_type": "markdown",
      "metadata": {
        "id": "fdbd6133-38f7-48d4-b10d-e303c21c92a1"
      },
      "source": [
        "<br>\n",
        "\n",
        "Ahora probando con la matriz de adyacencia"
      ],
      "id": "fdbd6133-38f7-48d4-b10d-e303c21c92a1"
    },
    {
      "cell_type": "code",
      "metadata": {
        "colab": {
          "base_uri": "https://localhost:8080/"
        },
        "id": "b792b092-956d-4891-ab4e-684c71cc6d40",
        "outputId": "582a8b85-0478-4a10-b161-eb646a4f10b1"
      },
      "source": [
        "Q,R = factorizacion_qr_hh(mat)\n",
        "print('\\nR:\\n', R)  \n",
        "print('\\nQ:\\n', Q) "
      ],
      "id": "b792b092-956d-4891-ab4e-684c71cc6d40",
      "execution_count": 342,
      "outputs": [
        {
          "output_type": "stream",
          "name": "stdout",
          "text": [
            "\n",
            "R:\n",
            " [[ 9.34077085e+00  2.34099166e+01  2.99868185e+01  3.09625716e+01\n",
            "   2.69931002e+01]\n",
            " [ 0.00000000e+00 -5.92342089e+00  8.79935008e+00  1.12109917e+00\n",
            "  -3.25924765e+00]\n",
            " [ 0.00000000e+00  0.00000000e+00 -6.58803115e+00  1.62142026e+01\n",
            "   2.28703032e+00]\n",
            " [ 0.00000000e+00  0.00000000e+00  0.00000000e+00 -1.31598762e+01\n",
            "   1.28743620e+01]\n",
            " [ 0.00000000e+00  0.00000000e+00  0.00000000e+00  3.55271368e-15\n",
            "  -2.82449713e+01]]\n",
            "\n",
            "Q:\n",
            " [[ 0.05352877 -0.12609198 -0.38013936 -0.73310946 -0.54706496]\n",
            " [ 0.21411509  0.7899292   0.35997005  0.0267305  -0.4470723 ]\n",
            " [ 0.32117264 -0.58773054  0.64652074  0.05837781 -0.36058829]\n",
            " [ 0.53528773 -0.07917029 -0.55328687  0.56012414 -0.29552277]\n",
            " [ 0.74940282  0.09174724  0.04242882 -0.38038006  0.53243654]]\n"
          ]
        }
      ]
    },
    {
      "cell_type": "markdown",
      "metadata": {
        "id": "ef071c6f-46c1-4998-9111-2e8f49a8b558"
      },
      "source": [
        "<br>\n",
        "\n",
        "Comprobando el resultado con la función de **np.linalg.qr**"
      ],
      "id": "ef071c6f-46c1-4998-9111-2e8f49a8b558"
    },
    {
      "cell_type": "code",
      "metadata": {
        "colab": {
          "base_uri": "https://localhost:8080/"
        },
        "id": "c8e8de90-e643-47dd-985c-f95a9665176e",
        "outputId": "cdadf9db-6a2b-4793-c727-7796c22f7b81"
      },
      "source": [
        "# Comprobando\n",
        "q,r = np.linalg.qr(mat)\n",
        "print(\"R:\\n\",r)\n",
        "print(\"Q:\\n\", q)"
      ],
      "id": "c8e8de90-e643-47dd-985c-f95a9665176e",
      "execution_count": 343,
      "outputs": [
        {
          "output_type": "stream",
          "name": "stdout",
          "text": [
            "R:\n",
            " [[ -9.34077085 -23.40991662 -29.9868185  -30.96257156 -26.99310023]\n",
            " [  0.           5.92342089  -8.79935008  -1.12109917   3.25924765]\n",
            " [  0.           0.           6.58803115 -16.21420261  -2.28703032]\n",
            " [  0.           0.           0.          13.15987619 -12.87436197]\n",
            " [  0.           0.           0.           0.         -28.24497133]]\n",
            "Q:\n",
            " [[-0.05352877  0.12609198  0.38013936  0.73310946 -0.54706496]\n",
            " [-0.21411509 -0.7899292  -0.35997005 -0.0267305  -0.4470723 ]\n",
            " [-0.32117264  0.58773054 -0.64652074 -0.05837781 -0.36058829]\n",
            " [-0.53528773  0.07917029  0.55328687 -0.56012414 -0.29552277]\n",
            " [-0.74940282 -0.09174724 -0.04242882  0.38038006  0.53243654]]\n"
          ]
        }
      ]
    },
    {
      "cell_type": "markdown",
      "metadata": {
        "id": "8c1b3a52-7505-454b-9875-b2bb5f46115e"
      },
      "source": [
        "<br>\n",
        "\n",
        "Se verifica que se obtienen los mismos resultados"
      ],
      "id": "8c1b3a52-7505-454b-9875-b2bb5f46115e"
    },
    {
      "cell_type": "markdown",
      "metadata": {
        "id": "b9f9855a-76c7-42c2-bb24-5cf9140ca381"
      },
      "source": [
        "<br>\n",
        "\n",
        "Ahora sólo falta calcular los eigenvalores y eigenvectores, para ello se usa el Algoritmo: algoritmo QR para matrices simétricas (versión simple), por tanto se tiene que evaluar:\n",
        "\n",
        "**while off(T_k) > tol ||T_k||_F && iterations < max_iters**\n",
        "\n",
        "por lo que se tendra que programar la norma Frobenius sin la diagonal"
      ],
      "id": "b9f9855a-76c7-42c2-bb24-5cf9140ca381"
    },
    {
      "cell_type": "code",
      "metadata": {
        "id": "e87677bb-bad2-4009-b531-04ab7dbf3016"
      },
      "source": [
        "def frobeniusNorm(A):    \n",
        "    \"\"\"\n",
        "    Obtiene Norma Frobenius sin la diagonal\n",
        "    Args:\n",
        "        A (Matrix): matriz Q\n",
        "    Regresa:\n",
        "        off (float): norma Frobenius sin la diagonal off(A)\n",
        "    \"\"\"\n",
        "    s = 0\n",
        "    m,n = A.shape\n",
        "    for j in range(m):\n",
        "        for k in range(n):\n",
        "            if(j != k):\n",
        "                s = s + abs(A[j, k])**2;\n",
        "    return math.sqrt(s)"
      ],
      "id": "e87677bb-bad2-4009-b531-04ab7dbf3016",
      "execution_count": 344,
      "outputs": []
    },
    {
      "cell_type": "markdown",
      "metadata": {
        "id": "5a947581-3f0d-4a34-a229-6d6e3c166f37"
      },
      "source": [
        "<br>\n",
        "\n",
        "Probando Norma de Frobenius sin la diagonal"
      ],
      "id": "5a947581-3f0d-4a34-a229-6d6e3c166f37"
    },
    {
      "cell_type": "code",
      "metadata": {
        "colab": {
          "base_uri": "https://localhost:8080/"
        },
        "id": "e037c98c-e5c9-49d8-8aa4-12936646d055",
        "outputId": "6ad69754-601d-4918-828a-0b91ce582772"
      },
      "source": [
        "print(frobeniusNorm(mat))"
      ],
      "id": "e037c98c-e5c9-49d8-8aa4-12936646d055",
      "execution_count": 345,
      "outputs": [
        {
          "output_type": "stream",
          "name": "stdout",
          "text": [
            "69.23871749245504\n"
          ]
        }
      ]
    },
    {
      "cell_type": "code",
      "metadata": {
        "colab": {
          "base_uri": "https://localhost:8080/"
        },
        "id": "7716e74c-f4df-4ae1-80ae-407c6268fed5",
        "outputId": "34687530-72c2-4fb0-81d1-b04b67961ec6"
      },
      "source": [
        "print(frobeniusNorm(Q))"
      ],
      "id": "7716e74c-f4df-4ae1-80ae-407c6268fed5",
      "execution_count": 346,
      "outputs": [
        {
          "output_type": "stream",
          "name": "stdout",
          "text": [
            "1.8324654849312283\n"
          ]
        }
      ]
    },
    {
      "cell_type": "code",
      "metadata": {
        "colab": {
          "base_uri": "https://localhost:8080/"
        },
        "id": "c462ce6d-b2e8-49f4-bf42-c5c78696e392",
        "outputId": "7770b551-6767-4b92-b96e-3d6e429bb6cb"
      },
      "source": [
        "print(frobeniusNorm(q))"
      ],
      "id": "c462ce6d-b2e8-49f4-bf42-c5c78696e392",
      "execution_count": 347,
      "outputs": [
        {
          "output_type": "stream",
          "name": "stdout",
          "text": [
            "1.832465484931228\n"
          ]
        }
      ]
    },
    {
      "cell_type": "code",
      "metadata": {
        "id": "4923e9b7-7d44-49d7-96d5-054759b792db"
      },
      "source": [
        "# Encontrando eigenvalores y Eigenvectores\n",
        "def eigen_val_vec(A, iteraciones):\n",
        "    \"\"\"\n",
        "    Obtiene eigenvalores y eigenvectores\n",
        "    Args:\n",
        "        A (Matrix): matriz Q\n",
        "        iteraciones (Entero): número de iteracciones a aplicar como condición de paro\n",
        "    Regresa:\n",
        "        Lambda (Matrix): matriz que contiene en su diagonal con eigevalores\n",
        "        X (Matrix): matriz de eigenvectores \n",
        "    \"\"\"\n",
        "    X = np.eye(A.shape[0])\n",
        "    T = A.copy()\n",
        "    tol = 0.00000001\n",
        "    off = frobeniusNorm(T)\n",
        "    max_iters = iteraciones\n",
        "    iterations = 0\n",
        "    # Criterio de paro while off(T_k) > tol ||T_k||_F && iterations < max_iters\n",
        "    while off > tol and iterations < max_iters:\n",
        "        Q,R = factorizacion_qr_hh(T)\n",
        "        X = X @ Q\n",
        "        T = R @ Q\n",
        "        off = frobeniusNorm(T)\n",
        "        iterations = iterations+1\n",
        "    #print('iterations: ',iterations)\n",
        "    #print('off: ',off)\n",
        "    return T, X"
      ],
      "id": "4923e9b7-7d44-49d7-96d5-054759b792db",
      "execution_count": 348,
      "outputs": []
    },
    {
      "cell_type": "markdown",
      "metadata": {
        "id": "440b0e50-febc-4ea6-8774-4a5562e1742a"
      },
      "source": [
        "<br>\n",
        "\n",
        "Probando la función"
      ],
      "id": "440b0e50-febc-4ea6-8774-4a5562e1742a"
    },
    {
      "cell_type": "code",
      "metadata": {
        "colab": {
          "base_uri": "https://localhost:8080/"
        },
        "id": "af6b968c-2b3d-4f0e-ac66-44769d4ddb98",
        "outputId": "e28a0fb0-a3b5-442b-bd89-17c7208df20f"
      },
      "source": [
        "Lambda, X = eigen_val_vec(mat,10)\n",
        "print('Lambda:\\n',Lambda)\n",
        "print('X:\\n',X)"
      ],
      "id": "af6b968c-2b3d-4f0e-ac66-44769d4ddb98",
      "execution_count": 349,
      "outputs": [
        {
          "output_type": "stream",
          "name": "stdout",
          "text": [
            "Lambda:\n",
            " [[ 5.90365172e+01  3.83001940e-02  6.94407681e-04 -5.86844177e-06\n",
            "  -9.91434443e-16]\n",
            " [ 3.83001940e-02 -2.98595371e+01 -3.29242664e-01  2.98494139e-03\n",
            "  -4.52625663e-15]\n",
            " [ 6.94407681e-04 -3.29242664e-01 -1.82133475e+01 -1.71270965e-02\n",
            "   3.73014822e-14]\n",
            " [-5.86844177e-06  2.98494138e-03 -1.71270965e-02 -9.23971993e+00\n",
            "   1.23768409e-11]\n",
            " [ 5.50546388e-18 -1.98397456e-15  3.51457975e-14  1.23752438e-11\n",
            "  -4.56813049e-01]]\n",
            "X:\n",
            " [[ 0.15107689 -0.06186229  0.09553009  0.12131512 -0.97442571]\n",
            " [ 0.37749464 -0.12470372  0.13146891  0.88803349  0.18989267]\n",
            " [ 0.473818   -0.20493811  0.76460915 -0.36811091  0.11560312]\n",
            " [ 0.53133468 -0.56171087 -0.59245788 -0.2238945   0.03208225]\n",
            " [ 0.57258496  0.78936893 -0.19482412 -0.1050941   0.00647675]]\n"
          ]
        }
      ]
    },
    {
      "cell_type": "markdown",
      "metadata": {
        "id": "549bdb3e-2cc4-4991-b049-fad2cd8bf857"
      },
      "source": [
        "<br>\n",
        "\n",
        "Si se diagolaiza la matriz Lambda se obtienen los eigenvalores"
      ],
      "id": "549bdb3e-2cc4-4991-b049-fad2cd8bf857"
    },
    {
      "cell_type": "code",
      "metadata": {
        "colab": {
          "base_uri": "https://localhost:8080/"
        },
        "id": "a9208666-8618-4ad7-92fe-913060dfa005",
        "outputId": "ac7367e4-2581-4944-b79a-f3ee739a164a"
      },
      "source": [
        "print(np.diag(Lambda))"
      ],
      "id": "a9208666-8618-4ad7-92fe-913060dfa005",
      "execution_count": 350,
      "outputs": [
        {
          "output_type": "stream",
          "name": "stdout",
          "text": [
            "[ 59.03651716 -29.85953706 -18.21334755  -9.23971993  -0.45681305]\n"
          ]
        }
      ]
    },
    {
      "cell_type": "markdown",
      "metadata": {
        "id": "abc9aed6-8ac5-4e1b-9209-a0ac71559387"
      },
      "source": [
        "<br>\n",
        "\n",
        "Finalmente se comprueban los resultados obtenidos de eigenvalores y eigenvectores usando la función **np.linalg.eig**"
      ],
      "id": "abc9aed6-8ac5-4e1b-9209-a0ac71559387"
    },
    {
      "cell_type": "code",
      "metadata": {
        "colab": {
          "base_uri": "https://localhost:8080/"
        },
        "id": "1a4da226-9edc-45b5-8c2b-b5a0ea6aa98b",
        "outputId": "582aeb2f-5038-4ee0-f0c8-f6238648f6cb"
      },
      "source": [
        "evalue_np, evector_np = np.linalg.eig(mat)\n",
        "print('Eigenvalores: \\n',evalue_np,'\\n')\n",
        "print('Eigenvectores: \\n',evector_np)"
      ],
      "id": "1a4da226-9edc-45b5-8c2b-b5a0ea6aa98b",
      "execution_count": 351,
      "outputs": [
        {
          "output_type": "stream",
          "name": "stdout",
          "text": [
            "Eigenvalores: \n",
            " [ 59.03653366 -29.86885427  -0.45681305 -18.20408017  -9.23968661] \n",
            "\n",
            "Eigenvectores: \n",
            " [[-0.1510509  -0.05921999 -0.97442571 -0.09747216 -0.12112111]\n",
            " [-0.37744176 -0.12121204  0.18989267 -0.13664362 -0.88775822]\n",
            " [-0.47373516 -0.18342609  0.11560312 -0.76938543  0.3696104 ]\n",
            " [-0.53108842 -0.57841751  0.03208225  0.57678706  0.222858  ]\n",
            " [-0.57292359  0.78331902  0.00647675  0.21723362  0.10458241]]\n"
          ]
        }
      ]
    }
  ]
}